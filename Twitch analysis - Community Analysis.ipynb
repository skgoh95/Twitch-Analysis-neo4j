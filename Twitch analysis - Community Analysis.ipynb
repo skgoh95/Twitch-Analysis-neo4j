{
  "cells": [
    {
      "cell_type": "markdown",
      "metadata": {},
      "source": [
        "# Twitch network analysis\n",
        "\n",
        "The Twitch social network composes of users. A small percent of those users broadcast their gameplay or activities through live streams. In the graph model, users who do live streams are tagged with a secondary label Stream. Additional information about which teams they belong to, which games they play on stream, and in which language they present their content is present. You also know how many followers they had at the moment of scraping, the all-time historical view count, and when they created their user account. The most relevant information for network analysis is knowing which users engaged in the streamer’s chat. You can distinguish if the user who chatted in the stream was a regular user (CHATTER relationship), a moderator of the stream (MODERATOR relationship), or a VIP of the stream.\n",
        "\n",
        "The network information was scraped between the 7th and the 10th of May 2021."
      ]
    },
    {
      "cell_type": "code",
      "execution_count": 1,
      "metadata": {
        "id": "qK12vd0AcRqG"
      },
      "outputs": [],
      "source": [
        "# Import Libraries\n",
        "%matplotlib inline\n",
        "from neo4j import GraphDatabase\n",
        "import pandas as pd\n",
        "import seaborn as sns\n",
        "from matplotlib import pyplot\n",
        "# Visual\n",
        "sns.set(font_scale = 1.5)\n",
        "pd.set_option('display.max_columns', None)\n",
        "pd.set_option('display.max_rows', None)\n",
        "pd.set_option('display.max_colwidth', 1000) # Enables Pandas to display long strings properly\n",
        "\n",
        "import warnings \n",
        "warnings.filterwarnings('ignore')"
      ]
    },
    {
      "cell_type": "code",
      "execution_count": 2,
      "metadata": {
        "id": "FnGiX9gQcRqK"
      },
      "outputs": [],
      "source": [
        "# Connect to Neo4j\n",
        "driver = GraphDatabase.driver('bolt://localhost:7687', auth=('neo4j', 'letmein'))\n",
        "\n",
        "def read_query(query):\n",
        "    with driver.session() as session:\n",
        "        result = session.run(query)\n",
        "        return pd.DataFrame([r.values() for r in result], columns=result.keys())"
      ]
    },
    {
      "cell_type": "markdown",
      "metadata": {
        "id": "JSJqOlljcRqc"
      },
      "source": [
        "## Community detection\n",
        "The last category of graph algorithms we will look at is the community detection category. Community detection or clustering algorithms are used to infer the community structure of a given network. Communities are vaguely defined as groups of nodes within a network that are more densely connected to one another than to other nodes. We could try to examine the community structure of the whole user network, but that does not make a pretty network visualization of results. First of all, we will release the existing project network from memory."
      ]
    },
    {
      "cell_type": "markdown",
      "metadata": {
        "id": "BFxv_EkscRqd"
      },
      "source": [
        "Since the 2 focus were on ESL, where CSGO was covered, and Riot Games, where League of Lengends was covered, it is likely that there are other users streaming the same tournements from 7-10may. Moving forward, analysis will be done on the community structure of a subgraph that contains CSGO and League of Legends streamers. To ease our further queries, we will first tag relevant nodes with an additional node label."
      ]
    },
    {
      "cell_type": "code",
      "execution_count": 3,
      "metadata": {
        "id": "x6QUWn3DcRqd",
        "outputId": "fc55d48b-5f1b-4041-eda3-5112340af7bf"
      },
      "outputs": [
        {
          "data": {
            "text/html": [
              "<div>\n",
              "<style scoped>\n",
              "    .dataframe tbody tr th:only-of-type {\n",
              "        vertical-align: middle;\n",
              "    }\n",
              "\n",
              "    .dataframe tbody tr th {\n",
              "        vertical-align: top;\n",
              "    }\n",
              "\n",
              "    .dataframe thead th {\n",
              "        text-align: right;\n",
              "    }\n",
              "</style>\n",
              "<table border=\"1\" class=\"dataframe\">\n",
              "  <thead>\n",
              "    <tr style=\"text-align: right;\">\n",
              "      <th></th>\n",
              "    </tr>\n",
              "  </thead>\n",
              "  <tbody>\n",
              "  </tbody>\n",
              "</table>\n",
              "</div>"
            ],
            "text/plain": [
              "Empty DataFrame\n",
              "Columns: []\n",
              "Index: []"
            ]
          },
          "execution_count": 3,
          "metadata": {},
          "output_type": "execute_result"
        }
      ],
      "source": [
        "read_query(\"\"\"\n",
        "MATCH (s:Stream)-[:PLAYS]->(g:Game)\n",
        "WHERE g.name in [\"League of Legends\",\"Counter-Strike: Global Offensive\"]\n",
        "SET s:leagueCSGO\n",
        "\"\"\")"
      ]
    },
    {
      "cell_type": "markdown",
      "metadata": {},
      "source": [
        "![title](img/node_community_overview.png)"
      ]
    },
    {
      "cell_type": "markdown",
      "metadata": {
        "id": "rJcEjlF6cRqd"
      },
      "source": [
        "There were a total of 164 streamers that broadcasted either CSGO or League of Legends on their channel. We can see that many of the nodes are isolated, a couple in pairs, and a few that have many nodes connected with one another.\n",
        "Following from [this](https://towardsdatascience.com/twitchverse-a-network-analysis-of-twitch-universe-using-neo4j-graph-data-science-d7218b4453ff) blog post. The Louvain Modularity algorithm will be used to infer the community structure of this subgraph. This network will be treated as undirected. This is because if a streamer engages in another streamer's chat, they are probably friends. The results of the Louvain Modularity algorithm will be stored back onto the graph, so the community structure information can be used in visualizations."
      ]
    },
    {
      "cell_type": "code",
      "execution_count": 4,
      "metadata": {
        "id": "dP5gAw3ScpQN"
      },
      "outputs": [
        {
          "data": {
            "text/html": [
              "<div>\n",
              "<style scoped>\n",
              "    .dataframe tbody tr th:only-of-type {\n",
              "        vertical-align: middle;\n",
              "    }\n",
              "\n",
              "    .dataframe tbody tr th {\n",
              "        vertical-align: top;\n",
              "    }\n",
              "\n",
              "    .dataframe thead th {\n",
              "        text-align: right;\n",
              "    }\n",
              "</style>\n",
              "<table border=\"1\" class=\"dataframe\">\n",
              "  <thead>\n",
              "    <tr style=\"text-align: right;\">\n",
              "      <th></th>\n",
              "      <th>nodeProjection</th>\n",
              "      <th>relationshipProjection</th>\n",
              "      <th>graphName</th>\n",
              "      <th>nodeCount</th>\n",
              "      <th>relationshipCount</th>\n",
              "      <th>projectMillis</th>\n",
              "    </tr>\n",
              "  </thead>\n",
              "  <tbody>\n",
              "    <tr>\n",
              "      <th>0</th>\n",
              "      <td>{'leagueCSGO': {'label': 'leagueCSGO', 'properties': {}}}</td>\n",
              "      <td>{'ALL': {'orientation': 'UNDIRECTED', 'aggregation': 'DEFAULT', 'type': '*', 'properties': {}}}</td>\n",
              "      <td>CSGOleague</td>\n",
              "      <td>422</td>\n",
              "      <td>622</td>\n",
              "      <td>823</td>\n",
              "    </tr>\n",
              "  </tbody>\n",
              "</table>\n",
              "</div>"
            ],
            "text/plain": [
              "                                              nodeProjection  \\\n",
              "0  {'leagueCSGO': {'label': 'leagueCSGO', 'properties': {}}}   \n",
              "\n",
              "                                                                            relationshipProjection  \\\n",
              "0  {'ALL': {'orientation': 'UNDIRECTED', 'aggregation': 'DEFAULT', 'type': '*', 'properties': {}}}   \n",
              "\n",
              "    graphName  nodeCount  relationshipCount  projectMillis  \n",
              "0  CSGOleague        422                622            823  "
            ]
          },
          "execution_count": 4,
          "metadata": {},
          "output_type": "execute_result"
        }
      ],
      "source": [
        "read_query(\"\"\"\n",
        "CALL gds.graph.project('CSGOleague','leagueCSGO', {ALL: {orientation:'UNDIRECTED', type:'*'}})\n",
        "\"\"\")"
      ]
    },
    {
      "cell_type": "code",
      "execution_count": 5,
      "metadata": {
        "id": "OwgoX6wjcRqe",
        "outputId": "f8166154-f3b3-40c8-c927-5bc6ebd7ef9c"
      },
      "outputs": [
        {
          "data": {
            "text/html": [
              "<div>\n",
              "<style scoped>\n",
              "    .dataframe tbody tr th:only-of-type {\n",
              "        vertical-align: middle;\n",
              "    }\n",
              "\n",
              "    .dataframe tbody tr th {\n",
              "        vertical-align: top;\n",
              "    }\n",
              "\n",
              "    .dataframe thead th {\n",
              "        text-align: right;\n",
              "    }\n",
              "</style>\n",
              "<table border=\"1\" class=\"dataframe\">\n",
              "  <thead>\n",
              "    <tr style=\"text-align: right;\">\n",
              "      <th></th>\n",
              "      <th>writeMillis</th>\n",
              "      <th>nodePropertiesWritten</th>\n",
              "      <th>modularity</th>\n",
              "      <th>modularities</th>\n",
              "      <th>ranLevels</th>\n",
              "      <th>communityCount</th>\n",
              "      <th>communityDistribution</th>\n",
              "      <th>postProcessingMillis</th>\n",
              "      <th>preProcessingMillis</th>\n",
              "      <th>computeMillis</th>\n",
              "      <th>configuration</th>\n",
              "    </tr>\n",
              "  </thead>\n",
              "  <tbody>\n",
              "    <tr>\n",
              "      <th>0</th>\n",
              "      <td>7</td>\n",
              "      <td>422</td>\n",
              "      <td>0.781821</td>\n",
              "      <td>[0.6012189700271916, 0.7588993083198065, 0.7818209075588549]</td>\n",
              "      <td>3</td>\n",
              "      <td>208</td>\n",
              "      <td>{'p99': 25, 'min': 1, 'max': 39, 'mean': 2.0288461538461537, 'p90': 2, 'p50': 1, 'p999': 39, 'p95': 5, 'p75': 1}</td>\n",
              "      <td>1</td>\n",
              "      <td>0</td>\n",
              "      <td>88</td>\n",
              "      <td>{'maxIterations': 10, 'writeConcurrency': 4, 'seedProperty': None, 'consecutiveIds': False, 'maxLevels': 10, 'relationshipWeightProperty': None, 'concurrency': 4, 'writeProperty': 'louvain_CSGOleague', 'includeIntermediateCommunities': False, 'nodeLabels': ['*'], 'sudo': False, 'relationshipTypes': ['*'], 'tolerance': 0.0001, 'username': None}</td>\n",
              "    </tr>\n",
              "  </tbody>\n",
              "</table>\n",
              "</div>"
            ],
            "text/plain": [
              "   writeMillis  nodePropertiesWritten  modularity  \\\n",
              "0            7                    422    0.781821   \n",
              "\n",
              "                                                   modularities  ranLevels  \\\n",
              "0  [0.6012189700271916, 0.7588993083198065, 0.7818209075588549]          3   \n",
              "\n",
              "   communityCount  \\\n",
              "0             208   \n",
              "\n",
              "                                                                                              communityDistribution  \\\n",
              "0  {'p99': 25, 'min': 1, 'max': 39, 'mean': 2.0288461538461537, 'p90': 2, 'p50': 1, 'p999': 39, 'p95': 5, 'p75': 1}   \n",
              "\n",
              "   postProcessingMillis  preProcessingMillis  computeMillis  \\\n",
              "0                     1                    0             88   \n",
              "\n",
              "                                                                                                                                                                                                                                                                                                                                               configuration  \n",
              "0  {'maxIterations': 10, 'writeConcurrency': 4, 'seedProperty': None, 'consecutiveIds': False, 'maxLevels': 10, 'relationshipWeightProperty': None, 'concurrency': 4, 'writeProperty': 'louvain_CSGOleague', 'includeIntermediateCommunities': False, 'nodeLabels': ['*'], 'sudo': False, 'relationshipTypes': ['*'], 'tolerance': 0.0001, 'username': None}  "
            ]
          },
          "execution_count": 5,
          "metadata": {},
          "output_type": "execute_result"
        }
      ],
      "source": [
        "read_query(\"\"\"CALL gds.louvain.write('CSGOleague', {\n",
        "    writeProperty:'louvain_CSGOleague'\n",
        "})\"\"\")"
      ]
    },
    {
      "cell_type": "markdown",
      "metadata": {},
      "source": [
        "![title](img/node_community_closeup.png)"
      ]
    },
    {
      "cell_type": "markdown",
      "metadata": {
        "id": "mnsnCFKWcRqe"
      },
      "source": [
        "After the algorithm has been applied, I will be taking a look at the bigger connected nodes. The color coded nodes seems to suggest that these various streamers within the community are isolated within their own language even though they probably play the same game. Users having \"CHATTER\" relationships that connects to the different streamers also suggests that the user is only interacting with the bot, where there are input commands by the user, and the bot will respond with the corresponding message."
      ]
    },
    {
      "cell_type": "code",
      "execution_count": 6,
      "metadata": {
        "id": "lJf4Jxh_cRqe",
        "outputId": "94a8d8d6-2bf0-4b2f-a19f-f351408a24f9"
      },
      "outputs": [
        {
          "data": {
            "text/html": [
              "<div>\n",
              "<style scoped>\n",
              "    .dataframe tbody tr th:only-of-type {\n",
              "        vertical-align: middle;\n",
              "    }\n",
              "\n",
              "    .dataframe tbody tr th {\n",
              "        vertical-align: top;\n",
              "    }\n",
              "\n",
              "    .dataframe thead th {\n",
              "        text-align: right;\n",
              "    }\n",
              "</style>\n",
              "<table border=\"1\" class=\"dataframe\">\n",
              "  <thead>\n",
              "    <tr style=\"text-align: right;\">\n",
              "      <th></th>\n",
              "      <th>batches</th>\n",
              "      <th>total</th>\n",
              "      <th>timeTaken</th>\n",
              "      <th>committedOperations</th>\n",
              "      <th>failedOperations</th>\n",
              "      <th>failedBatches</th>\n",
              "      <th>retries</th>\n",
              "      <th>errorMessages</th>\n",
              "      <th>batch</th>\n",
              "      <th>operations</th>\n",
              "      <th>wasTerminated</th>\n",
              "      <th>failedParams</th>\n",
              "      <th>updateStatistics</th>\n",
              "    </tr>\n",
              "  </thead>\n",
              "  <tbody>\n",
              "    <tr>\n",
              "      <th>0</th>\n",
              "      <td>67</td>\n",
              "      <td>3304360</td>\n",
              "      <td>10</td>\n",
              "      <td>3304360</td>\n",
              "      <td>0</td>\n",
              "      <td>0</td>\n",
              "      <td>0</td>\n",
              "      <td>{}</td>\n",
              "      <td>{'total': 67, 'committed': 67, 'failed': 0, 'errors': {}}</td>\n",
              "      <td>{'total': 3304360, 'committed': 3304360, 'failed': 0, 'errors': {}}</td>\n",
              "      <td>False</td>\n",
              "      <td>{}</td>\n",
              "      <td>{'nodesDeleted': 0, 'labelsAdded': 0, 'relationshipsCreated': 0, 'nodesCreated': 0, 'propertiesSet': 0, 'relationshipsDeleted': 0, 'labelsRemoved': 0}</td>\n",
              "    </tr>\n",
              "  </tbody>\n",
              "</table>\n",
              "</div>"
            ],
            "text/plain": [
              "   batches    total  timeTaken  committedOperations  failedOperations  \\\n",
              "0       67  3304360         10              3304360                 0   \n",
              "\n",
              "   failedBatches  retries errorMessages  \\\n",
              "0              0        0            {}   \n",
              "\n",
              "                                                       batch  \\\n",
              "0  {'total': 67, 'committed': 67, 'failed': 0, 'errors': {}}   \n",
              "\n",
              "                                                            operations  \\\n",
              "0  {'total': 3304360, 'committed': 3304360, 'failed': 0, 'errors': {}}   \n",
              "\n",
              "   wasTerminated failedParams  \\\n",
              "0          False           {}   \n",
              "\n",
              "                                                                                                                                         updateStatistics  \n",
              "0  {'nodesDeleted': 0, 'labelsAdded': 0, 'relationshipsCreated': 0, 'nodesCreated': 0, 'propertiesSet': 0, 'relationshipsDeleted': 0, 'labelsRemoved': 0}  "
            ]
          },
          "execution_count": 6,
          "metadata": {},
          "output_type": "execute_result"
        }
      ],
      "source": [
        "read_query(\"\"\"CALL apoc.periodic.iterate(\"\n",
        "    MATCH (u:User)\n",
        "    WHERE size((u)-->(:Stream)) > 1\n",
        "    RETURN u\",\n",
        "    \"SET u:Audiences\",\n",
        "    {batchSize:50000, parallel:true}\n",
        ")\"\"\")"
      ]
    },
    {
      "cell_type": "code",
      "execution_count": 7,
      "metadata": {
        "id": "Q2O07cMQcRqf",
        "outputId": "8e090ea6-7644-4852-bb0f-b5542feb2899"
      },
      "outputs": [
        {
          "data": {
            "text/html": [
              "<div>\n",
              "<style scoped>\n",
              "    .dataframe tbody tr th:only-of-type {\n",
              "        vertical-align: middle;\n",
              "    }\n",
              "\n",
              "    .dataframe tbody tr th {\n",
              "        vertical-align: top;\n",
              "    }\n",
              "\n",
              "    .dataframe thead th {\n",
              "        text-align: right;\n",
              "    }\n",
              "</style>\n",
              "<table border=\"1\" class=\"dataframe\">\n",
              "  <thead>\n",
              "    <tr style=\"text-align: right;\">\n",
              "      <th></th>\n",
              "      <th>nodeProjection</th>\n",
              "      <th>relationshipProjection</th>\n",
              "      <th>graphName</th>\n",
              "      <th>nodeCount</th>\n",
              "      <th>relationshipCount</th>\n",
              "      <th>projectMillis</th>\n",
              "    </tr>\n",
              "  </thead>\n",
              "  <tbody>\n",
              "    <tr>\n",
              "      <th>0</th>\n",
              "      <td>{'leagueCSGO': {'label': 'leagueCSGO', 'properties': {}}, 'Audiences': {'label': 'Audiences', 'properties': {}}}</td>\n",
              "      <td>{'CHATTERS': {'orientation': 'REVERSE', 'aggregation': 'DEFAULT', 'type': '*', 'properties': {}}}</td>\n",
              "      <td>shared-audience</td>\n",
              "      <td>3304639</td>\n",
              "      <td>4016885</td>\n",
              "      <td>1084</td>\n",
              "    </tr>\n",
              "  </tbody>\n",
              "</table>\n",
              "</div>"
            ],
            "text/plain": [
              "                                                                                                     nodeProjection  \\\n",
              "0  {'leagueCSGO': {'label': 'leagueCSGO', 'properties': {}}, 'Audiences': {'label': 'Audiences', 'properties': {}}}   \n",
              "\n",
              "                                                                              relationshipProjection  \\\n",
              "0  {'CHATTERS': {'orientation': 'REVERSE', 'aggregation': 'DEFAULT', 'type': '*', 'properties': {}}}   \n",
              "\n",
              "         graphName  nodeCount  relationshipCount  projectMillis  \n",
              "0  shared-audience    3304639            4016885           1084  "
            ]
          },
          "execution_count": 7,
          "metadata": {},
          "output_type": "execute_result"
        }
      ],
      "source": [
        "read_query(\"\"\"\n",
        "CALL gds.graph.project('shared-audience',\n",
        "  ['leagueCSGO', 'Audiences'],\n",
        "  {CHATTERS: {type:'*', orientation:'REVERSE'}})\n",
        "\"\"\")"
      ]
    },
    {
      "cell_type": "code",
      "execution_count": 8,
      "metadata": {
        "id": "1KtHEDmScRqf",
        "outputId": "9fac2030-d9e8-469a-da90-e80c08b1e600"
      },
      "outputs": [
        {
          "data": {
            "text/html": [
              "<div>\n",
              "<style scoped>\n",
              "    .dataframe tbody tr th:only-of-type {\n",
              "        vertical-align: middle;\n",
              "    }\n",
              "\n",
              "    .dataframe tbody tr th {\n",
              "        vertical-align: top;\n",
              "    }\n",
              "\n",
              "    .dataframe thead th {\n",
              "        text-align: right;\n",
              "    }\n",
              "</style>\n",
              "<table border=\"1\" class=\"dataframe\">\n",
              "  <thead>\n",
              "    <tr style=\"text-align: right;\">\n",
              "      <th></th>\n",
              "      <th>preProcessingMillis</th>\n",
              "      <th>computeMillis</th>\n",
              "      <th>mutateMillis</th>\n",
              "      <th>postProcessingMillis</th>\n",
              "      <th>nodesCompared</th>\n",
              "      <th>relationshipsWritten</th>\n",
              "      <th>similarityDistribution</th>\n",
              "      <th>configuration</th>\n",
              "    </tr>\n",
              "  </thead>\n",
              "  <tbody>\n",
              "    <tr>\n",
              "      <th>0</th>\n",
              "      <td>0</td>\n",
              "      <td>3743</td>\n",
              "      <td>46</td>\n",
              "      <td>-1</td>\n",
              "      <td>1298</td>\n",
              "      <td>5736</td>\n",
              "      <td>{'p1': 0.05023908615112305, 'max': 0.541187047958374, 'p5': 0.05135941505432129, 'p90': 0.17142844200134277, 'p50': 0.07407402992248535, 'p95': 0.21311545372009277, 'p10': 0.05328202247619629, 'p75': 0.11111092567443848, 'p99': 0.30909132957458496, 'p25': 0.05963301658630371, 'p100': 0.541187047958374, 'min': 0.04999995231628418, 'mean': 0.09602355158977428, 'stdDev': 0.057099034034213056}</td>\n",
              "      <td>{'topK': 15, 'similarityMetric': 'Jaccard', 'bottomK': 10, 'bottomN': 0, 'relationshipWeightProperty': None, 'mutateRelationshipType': 'SHARED_AUDIENCE', 'topN': 0, 'concurrency': 4, 'degreeCutoff': 1, 'similarityCutoff': 0.05, 'nodeLabels': ['*'], 'sudo': False, 'relationshipTypes': ['*'], 'mutateProperty': 'score', 'username': None}</td>\n",
              "    </tr>\n",
              "  </tbody>\n",
              "</table>\n",
              "</div>"
            ],
            "text/plain": [
              "   preProcessingMillis  computeMillis  mutateMillis  postProcessingMillis  \\\n",
              "0                    0           3743            46                    -1   \n",
              "\n",
              "   nodesCompared  relationshipsWritten  \\\n",
              "0           1298                  5736   \n",
              "\n",
              "                                                                                                                                                                                                                                                                                                                                                                                     similarityDistribution  \\\n",
              "0  {'p1': 0.05023908615112305, 'max': 0.541187047958374, 'p5': 0.05135941505432129, 'p90': 0.17142844200134277, 'p50': 0.07407402992248535, 'p95': 0.21311545372009277, 'p10': 0.05328202247619629, 'p75': 0.11111092567443848, 'p99': 0.30909132957458496, 'p25': 0.05963301658630371, 'p100': 0.541187047958374, 'min': 0.04999995231628418, 'mean': 0.09602355158977428, 'stdDev': 0.057099034034213056}   \n",
              "\n",
              "                                                                                                                                                                                                                                                                                                                                      configuration  \n",
              "0  {'topK': 15, 'similarityMetric': 'Jaccard', 'bottomK': 10, 'bottomN': 0, 'relationshipWeightProperty': None, 'mutateRelationshipType': 'SHARED_AUDIENCE', 'topN': 0, 'concurrency': 4, 'degreeCutoff': 1, 'similarityCutoff': 0.05, 'nodeLabels': ['*'], 'sudo': False, 'relationshipTypes': ['*'], 'mutateProperty': 'score', 'username': None}  "
            ]
          },
          "execution_count": 8,
          "metadata": {},
          "output_type": "execute_result"
        }
      ],
      "source": [
        "read_query(\"\"\"\n",
        "CALL gds.nodeSimilarity.mutate('shared-audience',\n",
        " {similarityCutoff:0.05, topK:15, mutateProperty:'score', mutateRelationshipType:'SHARED_AUDIENCE', similarityMetric: 'Jaccard'})\n",
        "\"\"\")"
      ]
    },
    {
      "cell_type": "code",
      "execution_count": 9,
      "metadata": {
        "id": "Hy_EjRaacRqf",
        "outputId": "bfbb22c8-8e86-46ea-b901-9652417e6d92"
      },
      "outputs": [
        {
          "data": {
            "text/html": [
              "<div>\n",
              "<style scoped>\n",
              "    .dataframe tbody tr th:only-of-type {\n",
              "        vertical-align: middle;\n",
              "    }\n",
              "\n",
              "    .dataframe tbody tr th {\n",
              "        vertical-align: top;\n",
              "    }\n",
              "\n",
              "    .dataframe thead th {\n",
              "        text-align: right;\n",
              "    }\n",
              "</style>\n",
              "<table border=\"1\" class=\"dataframe\">\n",
              "  <thead>\n",
              "    <tr style=\"text-align: right;\">\n",
              "      <th></th>\n",
              "      <th>writeMillis</th>\n",
              "      <th>nodePropertiesWritten</th>\n",
              "      <th>modularity</th>\n",
              "      <th>modularities</th>\n",
              "      <th>ranLevels</th>\n",
              "      <th>communityCount</th>\n",
              "      <th>communityDistribution</th>\n",
              "      <th>postProcessingMillis</th>\n",
              "      <th>preProcessingMillis</th>\n",
              "      <th>computeMillis</th>\n",
              "      <th>configuration</th>\n",
              "    </tr>\n",
              "  </thead>\n",
              "  <tbody>\n",
              "    <tr>\n",
              "      <th>0</th>\n",
              "      <td>5</td>\n",
              "      <td>422</td>\n",
              "      <td>0.788481</td>\n",
              "      <td>[0.7660461923438506, 0.7884806730461174]</td>\n",
              "      <td>2</td>\n",
              "      <td>164</td>\n",
              "      <td>{'p99': 15, 'min': 1, 'max': 83, 'mean': 2.573170731707317, 'p90': 5, 'p50': 1, 'p999': 83, 'p95': 7, 'p75': 2}</td>\n",
              "      <td>2</td>\n",
              "      <td>1</td>\n",
              "      <td>91</td>\n",
              "      <td>{'maxIterations': 10, 'writeConcurrency': 4, 'seedProperty': None, 'consecutiveIds': False, 'maxLevels': 10, 'relationshipWeightProperty': 'score', 'concurrency': 4, 'writeProperty': 'louvain_shared_audience', 'includeIntermediateCommunities': False, 'nodeLabels': ['leagueCSGO'], 'sudo': False, 'relationshipTypes': ['SHARED_AUDIENCE'], 'tolerance': 0.0001, 'username': None}</td>\n",
              "    </tr>\n",
              "  </tbody>\n",
              "</table>\n",
              "</div>"
            ],
            "text/plain": [
              "   writeMillis  nodePropertiesWritten  modularity  \\\n",
              "0            5                    422    0.788481   \n",
              "\n",
              "                               modularities  ranLevels  communityCount  \\\n",
              "0  [0.7660461923438506, 0.7884806730461174]          2             164   \n",
              "\n",
              "                                                                                             communityDistribution  \\\n",
              "0  {'p99': 15, 'min': 1, 'max': 83, 'mean': 2.573170731707317, 'p90': 5, 'p50': 1, 'p999': 83, 'p95': 7, 'p75': 2}   \n",
              "\n",
              "   postProcessingMillis  preProcessingMillis  computeMillis  \\\n",
              "0                     2                    1             91   \n",
              "\n",
              "                                                                                                                                                                                                                                                                                                                                                                              configuration  \n",
              "0  {'maxIterations': 10, 'writeConcurrency': 4, 'seedProperty': None, 'consecutiveIds': False, 'maxLevels': 10, 'relationshipWeightProperty': 'score', 'concurrency': 4, 'writeProperty': 'louvain_shared_audience', 'includeIntermediateCommunities': False, 'nodeLabels': ['leagueCSGO'], 'sudo': False, 'relationshipTypes': ['SHARED_AUDIENCE'], 'tolerance': 0.0001, 'username': None}  "
            ]
          },
          "execution_count": 9,
          "metadata": {},
          "output_type": "execute_result"
        }
      ],
      "source": [
        "read_query(\"\"\"\n",
        "CALL gds.louvain.write('shared-audience', \n",
        "       { nodeLabels:['leagueCSGO'],\n",
        "         relationshipTypes:['SHARED_AUDIENCE'], \n",
        "         relationshipWeightProperty:'score',\n",
        "         writeProperty:'louvain_shared_audience'})\n",
        "\"\"\")"
      ]
    },
    {
      "cell_type": "code",
      "execution_count": 10,
      "metadata": {},
      "outputs": [
        {
          "data": {
            "text/html": [
              "<div>\n",
              "<style scoped>\n",
              "    .dataframe tbody tr th:only-of-type {\n",
              "        vertical-align: middle;\n",
              "    }\n",
              "\n",
              "    .dataframe tbody tr th {\n",
              "        vertical-align: top;\n",
              "    }\n",
              "\n",
              "    .dataframe thead th {\n",
              "        text-align: right;\n",
              "    }\n",
              "</style>\n",
              "<table border=\"1\" class=\"dataframe\">\n",
              "  <thead>\n",
              "    <tr style=\"text-align: right;\">\n",
              "      <th></th>\n",
              "      <th>graphName</th>\n",
              "      <th>database</th>\n",
              "      <th>memoryUsage</th>\n",
              "      <th>sizeInBytes</th>\n",
              "      <th>nodeCount</th>\n",
              "      <th>relationshipCount</th>\n",
              "      <th>configuration</th>\n",
              "      <th>density</th>\n",
              "      <th>creationTime</th>\n",
              "      <th>modificationTime</th>\n",
              "      <th>schema</th>\n",
              "    </tr>\n",
              "  </thead>\n",
              "  <tbody>\n",
              "    <tr>\n",
              "      <th>0</th>\n",
              "      <td>CSGOleague</td>\n",
              "      <td>neo4j</td>\n",
              "      <td></td>\n",
              "      <td>-1</td>\n",
              "      <td>422</td>\n",
              "      <td>622</td>\n",
              "      <td>{'relationshipProjection': {'ALL': {'orientation': 'UNDIRECTED', 'aggregation': 'DEFAULT', 'type': '*', 'properties': {}}}, 'nodeProjection': {'leagueCSGO': {'label': 'leagueCSGO', 'properties': {}}}, 'relationshipProperties': [], 'creationTime': 2022-06-08T06:44:36.865747300+08:00, 'validateRelationships': False, 'readConcurrency': 4, 'sudo': False, 'nodeProperties': [], 'username': None}</td>\n",
              "      <td>0.003501</td>\n",
              "      <td>2022-06-08T06:44:36.865747300+08:00</td>\n",
              "      <td>2022-06-08T06:44:37.689601200+08:00</td>\n",
              "      <td>{'relationships': {'ALL': {}}, 'nodes': {'leagueCSGO': {}}}</td>\n",
              "    </tr>\n",
              "  </tbody>\n",
              "</table>\n",
              "</div>"
            ],
            "text/plain": [
              "    graphName database memoryUsage  sizeInBytes  nodeCount  relationshipCount  \\\n",
              "0  CSGOleague    neo4j                       -1        422                622   \n",
              "\n",
              "                                                                                                                                                                                                                                                                                                                                                                                              configuration  \\\n",
              "0  {'relationshipProjection': {'ALL': {'orientation': 'UNDIRECTED', 'aggregation': 'DEFAULT', 'type': '*', 'properties': {}}}, 'nodeProjection': {'leagueCSGO': {'label': 'leagueCSGO', 'properties': {}}}, 'relationshipProperties': [], 'creationTime': 2022-06-08T06:44:36.865747300+08:00, 'validateRelationships': False, 'readConcurrency': 4, 'sudo': False, 'nodeProperties': [], 'username': None}   \n",
              "\n",
              "    density                         creationTime  \\\n",
              "0  0.003501  2022-06-08T06:44:36.865747300+08:00   \n",
              "\n",
              "                      modificationTime  \\\n",
              "0  2022-06-08T06:44:37.689601200+08:00   \n",
              "\n",
              "                                                        schema  \n",
              "0  {'relationships': {'ALL': {}}, 'nodes': {'leagueCSGO': {}}}  "
            ]
          },
          "execution_count": 10,
          "metadata": {},
          "output_type": "execute_result"
        }
      ],
      "source": [
        "# Helps to run codes smoothly without recreating database from scratch when restarting notebook\n",
        "read_query(\"\"\"\n",
        "CALL gds.graph.drop(\"CSGOleague\")\n",
        "\"\"\")"
      ]
    },
    {
      "cell_type": "code",
      "execution_count": 11,
      "metadata": {},
      "outputs": [
        {
          "data": {
            "text/html": [
              "<div>\n",
              "<style scoped>\n",
              "    .dataframe tbody tr th:only-of-type {\n",
              "        vertical-align: middle;\n",
              "    }\n",
              "\n",
              "    .dataframe tbody tr th {\n",
              "        vertical-align: top;\n",
              "    }\n",
              "\n",
              "    .dataframe thead th {\n",
              "        text-align: right;\n",
              "    }\n",
              "</style>\n",
              "<table border=\"1\" class=\"dataframe\">\n",
              "  <thead>\n",
              "    <tr style=\"text-align: right;\">\n",
              "      <th></th>\n",
              "      <th>graphName</th>\n",
              "      <th>database</th>\n",
              "      <th>memoryUsage</th>\n",
              "      <th>sizeInBytes</th>\n",
              "      <th>nodeCount</th>\n",
              "      <th>relationshipCount</th>\n",
              "      <th>configuration</th>\n",
              "      <th>density</th>\n",
              "      <th>creationTime</th>\n",
              "      <th>modificationTime</th>\n",
              "      <th>schema</th>\n",
              "    </tr>\n",
              "  </thead>\n",
              "  <tbody>\n",
              "    <tr>\n",
              "      <th>0</th>\n",
              "      <td>shared-audience</td>\n",
              "      <td>neo4j</td>\n",
              "      <td></td>\n",
              "      <td>-1</td>\n",
              "      <td>3304639</td>\n",
              "      <td>4022621</td>\n",
              "      <td>{'relationshipProjection': {'CHATTERS': {'orientation': 'REVERSE', 'aggregation': 'DEFAULT', 'type': '*', 'properties': {}}}, 'nodeProjection': {'leagueCSGO': {'label': 'leagueCSGO', 'properties': {}}, 'Audiences': {'label': 'Audiences', 'properties': {}}}, 'relationshipProperties': [], 'creationTime': 2022-06-08T06:44:48.549505100+08:00, 'validateRelationships': False, 'readConcurrency': 4, 'sudo': False, 'nodeProperties': [], 'username': None}</td>\n",
              "      <td>3.683504e-07</td>\n",
              "      <td>2022-06-08T06:44:48.549505100+08:00</td>\n",
              "      <td>2022-06-08T06:44:53.465351400+08:00</td>\n",
              "      <td>{'relationships': {'SHARED_AUDIENCE': {'score': 'Float (DefaultValue(NaN), TRANSIENT, Aggregation.NONE)'}, 'CHATTERS': {}}, 'nodes': {'leagueCSGO': {}, 'Audiences': {}}}</td>\n",
              "    </tr>\n",
              "  </tbody>\n",
              "</table>\n",
              "</div>"
            ],
            "text/plain": [
              "         graphName database memoryUsage  sizeInBytes  nodeCount  \\\n",
              "0  shared-audience    neo4j                       -1    3304639   \n",
              "\n",
              "   relationshipCount  \\\n",
              "0            4022621   \n",
              "\n",
              "                                                                                                                                                                                                                                                                                                                                                                                                                                                       configuration  \\\n",
              "0  {'relationshipProjection': {'CHATTERS': {'orientation': 'REVERSE', 'aggregation': 'DEFAULT', 'type': '*', 'properties': {}}}, 'nodeProjection': {'leagueCSGO': {'label': 'leagueCSGO', 'properties': {}}, 'Audiences': {'label': 'Audiences', 'properties': {}}}, 'relationshipProperties': [], 'creationTime': 2022-06-08T06:44:48.549505100+08:00, 'validateRelationships': False, 'readConcurrency': 4, 'sudo': False, 'nodeProperties': [], 'username': None}   \n",
              "\n",
              "        density                         creationTime  \\\n",
              "0  3.683504e-07  2022-06-08T06:44:48.549505100+08:00   \n",
              "\n",
              "                      modificationTime  \\\n",
              "0  2022-06-08T06:44:53.465351400+08:00   \n",
              "\n",
              "                                                                                                                                                                      schema  \n",
              "0  {'relationships': {'SHARED_AUDIENCE': {'score': 'Float (DefaultValue(NaN), TRANSIENT, Aggregation.NONE)'}, 'CHATTERS': {}}, 'nodes': {'leagueCSGO': {}, 'Audiences': {}}}  "
            ]
          },
          "execution_count": 11,
          "metadata": {},
          "output_type": "execute_result"
        }
      ],
      "source": [
        "# # Helps to run codes smoothly without recreating database from scratch when restarting notebook\n",
        "read_query(\"\"\"\n",
        "CALL gds.graph.drop(\"shared-audience\")\n",
        "\"\"\")"
      ]
    }
  ],
  "metadata": {
    "colab": {
      "name": "Twitch analysis.ipynb",
      "provenance": []
    },
    "interpreter": {
      "hash": "263930470851f494f0ed2879c35b57985588df20f9e529b86e97dd5eb9ddc466"
    },
    "kernelspec": {
      "display_name": "Python 3.8.8 ('base')",
      "language": "python",
      "name": "python3"
    },
    "language_info": {
      "codemirror_mode": {
        "name": "ipython",
        "version": 3
      },
      "file_extension": ".py",
      "mimetype": "text/x-python",
      "name": "python",
      "nbconvert_exporter": "python",
      "pygments_lexer": "ipython3",
      "version": "3.8.8"
    }
  },
  "nbformat": 4,
  "nbformat_minor": 0
}
